{
 "cells": [
  {
   "cell_type": "markdown",
   "metadata": {},
   "source": [
    "## Observations and Insights "
   ]
  },
  {
   "cell_type": "code",
   "execution_count": 1,
   "metadata": {},
   "outputs": [
    {
     "name": "stdout",
     "output_type": "stream",
     "text": [
      "Findings:\n",
      "1. Amoung all the treatments Capomulin & Ramicane perform the best\n",
      "2. There is a strong correlation between Weight and Tumor Volume (0.95)\n",
      "3. Among all the treatments Ketapril & Naftisol are the least effective\n"
     ]
    }
   ],
   "source": [
    "print('Findings:')\n",
    "\n",
    "print('1. Amoung all the treatments Capomulin & Ramicane perform the best')\n",
    "\n",
    "print('2. There is a strong correlation between Weight and Tumor Volume (0.95)')\n",
    "\n",
    "print('3. Among all the treatments Ketapril & Naftisol are the least effective')"
   ]
  },
  {
   "cell_type": "markdown",
   "metadata": {},
   "source": []
  },
  {
   "cell_type": "code",
   "execution_count": 2,
   "metadata": {},
   "outputs": [
    {
     "data": {
      "text/html": [
       "<div>\n",
       "<style scoped>\n",
       "    .dataframe tbody tr th:only-of-type {\n",
       "        vertical-align: middle;\n",
       "    }\n",
       "\n",
       "    .dataframe tbody tr th {\n",
       "        vertical-align: top;\n",
       "    }\n",
       "\n",
       "    .dataframe thead th {\n",
       "        text-align: right;\n",
       "    }\n",
       "</style>\n",
       "<table border=\"1\" class=\"dataframe\">\n",
       "  <thead>\n",
       "    <tr style=\"text-align: right;\">\n",
       "      <th></th>\n",
       "      <th>Mouse ID</th>\n",
       "      <th>Timepoint</th>\n",
       "      <th>Tumor Volume (mm3)</th>\n",
       "      <th>Metastatic Sites</th>\n",
       "      <th>Drug Regimen</th>\n",
       "      <th>Sex</th>\n",
       "      <th>Age_months</th>\n",
       "      <th>Weight (g)</th>\n",
       "    </tr>\n",
       "  </thead>\n",
       "  <tbody>\n",
       "    <tr>\n",
       "      <th>0</th>\n",
       "      <td>b128</td>\n",
       "      <td>0</td>\n",
       "      <td>45.000000</td>\n",
       "      <td>0</td>\n",
       "      <td>Capomulin</td>\n",
       "      <td>Female</td>\n",
       "      <td>9</td>\n",
       "      <td>22</td>\n",
       "    </tr>\n",
       "    <tr>\n",
       "      <th>1</th>\n",
       "      <td>b128</td>\n",
       "      <td>5</td>\n",
       "      <td>45.651331</td>\n",
       "      <td>0</td>\n",
       "      <td>Capomulin</td>\n",
       "      <td>Female</td>\n",
       "      <td>9</td>\n",
       "      <td>22</td>\n",
       "    </tr>\n",
       "    <tr>\n",
       "      <th>2</th>\n",
       "      <td>b128</td>\n",
       "      <td>10</td>\n",
       "      <td>43.270852</td>\n",
       "      <td>0</td>\n",
       "      <td>Capomulin</td>\n",
       "      <td>Female</td>\n",
       "      <td>9</td>\n",
       "      <td>22</td>\n",
       "    </tr>\n",
       "    <tr>\n",
       "      <th>3</th>\n",
       "      <td>b128</td>\n",
       "      <td>15</td>\n",
       "      <td>43.784893</td>\n",
       "      <td>0</td>\n",
       "      <td>Capomulin</td>\n",
       "      <td>Female</td>\n",
       "      <td>9</td>\n",
       "      <td>22</td>\n",
       "    </tr>\n",
       "    <tr>\n",
       "      <th>4</th>\n",
       "      <td>b128</td>\n",
       "      <td>20</td>\n",
       "      <td>42.731552</td>\n",
       "      <td>0</td>\n",
       "      <td>Capomulin</td>\n",
       "      <td>Female</td>\n",
       "      <td>9</td>\n",
       "      <td>22</td>\n",
       "    </tr>\n",
       "  </tbody>\n",
       "</table>\n",
       "</div>"
      ],
      "text/plain": [
       "  Mouse ID  Timepoint  Tumor Volume (mm3)  Metastatic Sites Drug Regimen  \\\n",
       "0     b128          0           45.000000                 0    Capomulin   \n",
       "1     b128          5           45.651331                 0    Capomulin   \n",
       "2     b128         10           43.270852                 0    Capomulin   \n",
       "3     b128         15           43.784893                 0    Capomulin   \n",
       "4     b128         20           42.731552                 0    Capomulin   \n",
       "\n",
       "      Sex  Age_months  Weight (g)  \n",
       "0  Female           9          22  \n",
       "1  Female           9          22  \n",
       "2  Female           9          22  \n",
       "3  Female           9          22  \n",
       "4  Female           9          22  "
      ]
     },
     "execution_count": 2,
     "metadata": {},
     "output_type": "execute_result"
    }
   ],
   "source": [
    "# Dependencies and Setup\n",
    "import matplotlib.pyplot as plt\n",
    "import pandas as pd\n",
    "import scipy.stats as st\n",
    "import numpy as np\n",
    "\n",
    "# Study data files\n",
    "mouse_metadata_path = \"./data/Mouse_metadata.csv\"\n",
    "study_results_path = \"./data/Study_results.csv\"\n",
    "\n",
    "# Read the mouse data and the study results\n",
    "mouse_metadata = pd.read_csv(mouse_metadata_path)\n",
    "study_results = pd.read_csv(study_results_path)\n",
    "\n",
    "\n",
    "# Combine the data into a single dataset\n",
    "\n",
    "mouse_df = pd.merge(study_results, mouse_metadata, on = 'Mouse ID', how = 'outer')\n",
    "\n",
    "\n",
    "mouse_df.head()"
   ]
  },
  {
   "cell_type": "code",
   "execution_count": 3,
   "metadata": {},
   "outputs": [
    {
     "data": {
      "text/plain": [
       "1893"
      ]
     },
     "execution_count": 3,
     "metadata": {},
     "output_type": "execute_result"
    }
   ],
   "source": [
    "# Checking the number of mice in the DataFrame.\n",
    "\n",
    "mouse_df['Mouse ID'].count()\n"
   ]
  },
  {
   "cell_type": "code",
   "execution_count": 4,
   "metadata": {},
   "outputs": [
    {
     "name": "stdout",
     "output_type": "stream",
     "text": [
      " The mice with duplicate Mouse ID is g989\n"
     ]
    }
   ],
   "source": [
    "# Getting the duplicate mice by ID number that shows up for Mouse ID and Timepoint. \n",
    "\n",
    "duplicate_df = mouse_df[mouse_df.duplicated(subset = ['Mouse ID', 'Timepoint'], keep = False)]\n",
    "\n",
    "duplicate_mice = duplicate_df['Mouse ID'].unique()\n",
    "\n",
    "print (f' The mice with duplicate Mouse ID is {duplicate_mice[0]}')"
   ]
  },
  {
   "cell_type": "code",
   "execution_count": 5,
   "metadata": {},
   "outputs": [
    {
     "data": {
      "text/html": [
       "<div>\n",
       "<style scoped>\n",
       "    .dataframe tbody tr th:only-of-type {\n",
       "        vertical-align: middle;\n",
       "    }\n",
       "\n",
       "    .dataframe tbody tr th {\n",
       "        vertical-align: top;\n",
       "    }\n",
       "\n",
       "    .dataframe thead th {\n",
       "        text-align: right;\n",
       "    }\n",
       "</style>\n",
       "<table border=\"1\" class=\"dataframe\">\n",
       "  <thead>\n",
       "    <tr style=\"text-align: right;\">\n",
       "      <th></th>\n",
       "      <th>Mouse ID</th>\n",
       "      <th>Timepoint</th>\n",
       "      <th>Tumor Volume (mm3)</th>\n",
       "      <th>Metastatic Sites</th>\n",
       "      <th>Drug Regimen</th>\n",
       "      <th>Sex</th>\n",
       "      <th>Age_months</th>\n",
       "      <th>Weight (g)</th>\n",
       "    </tr>\n",
       "  </thead>\n",
       "  <tbody>\n",
       "    <tr>\n",
       "      <th>860</th>\n",
       "      <td>g989</td>\n",
       "      <td>0</td>\n",
       "      <td>45.000000</td>\n",
       "      <td>0</td>\n",
       "      <td>Propriva</td>\n",
       "      <td>Female</td>\n",
       "      <td>21</td>\n",
       "      <td>26</td>\n",
       "    </tr>\n",
       "    <tr>\n",
       "      <th>861</th>\n",
       "      <td>g989</td>\n",
       "      <td>0</td>\n",
       "      <td>45.000000</td>\n",
       "      <td>0</td>\n",
       "      <td>Propriva</td>\n",
       "      <td>Female</td>\n",
       "      <td>21</td>\n",
       "      <td>26</td>\n",
       "    </tr>\n",
       "    <tr>\n",
       "      <th>862</th>\n",
       "      <td>g989</td>\n",
       "      <td>5</td>\n",
       "      <td>48.786801</td>\n",
       "      <td>0</td>\n",
       "      <td>Propriva</td>\n",
       "      <td>Female</td>\n",
       "      <td>21</td>\n",
       "      <td>26</td>\n",
       "    </tr>\n",
       "    <tr>\n",
       "      <th>863</th>\n",
       "      <td>g989</td>\n",
       "      <td>5</td>\n",
       "      <td>47.570392</td>\n",
       "      <td>0</td>\n",
       "      <td>Propriva</td>\n",
       "      <td>Female</td>\n",
       "      <td>21</td>\n",
       "      <td>26</td>\n",
       "    </tr>\n",
       "    <tr>\n",
       "      <th>864</th>\n",
       "      <td>g989</td>\n",
       "      <td>10</td>\n",
       "      <td>51.745156</td>\n",
       "      <td>0</td>\n",
       "      <td>Propriva</td>\n",
       "      <td>Female</td>\n",
       "      <td>21</td>\n",
       "      <td>26</td>\n",
       "    </tr>\n",
       "    <tr>\n",
       "      <th>865</th>\n",
       "      <td>g989</td>\n",
       "      <td>10</td>\n",
       "      <td>49.880528</td>\n",
       "      <td>0</td>\n",
       "      <td>Propriva</td>\n",
       "      <td>Female</td>\n",
       "      <td>21</td>\n",
       "      <td>26</td>\n",
       "    </tr>\n",
       "    <tr>\n",
       "      <th>866</th>\n",
       "      <td>g989</td>\n",
       "      <td>15</td>\n",
       "      <td>51.325852</td>\n",
       "      <td>1</td>\n",
       "      <td>Propriva</td>\n",
       "      <td>Female</td>\n",
       "      <td>21</td>\n",
       "      <td>26</td>\n",
       "    </tr>\n",
       "    <tr>\n",
       "      <th>867</th>\n",
       "      <td>g989</td>\n",
       "      <td>15</td>\n",
       "      <td>53.442020</td>\n",
       "      <td>0</td>\n",
       "      <td>Propriva</td>\n",
       "      <td>Female</td>\n",
       "      <td>21</td>\n",
       "      <td>26</td>\n",
       "    </tr>\n",
       "    <tr>\n",
       "      <th>868</th>\n",
       "      <td>g989</td>\n",
       "      <td>20</td>\n",
       "      <td>55.326122</td>\n",
       "      <td>1</td>\n",
       "      <td>Propriva</td>\n",
       "      <td>Female</td>\n",
       "      <td>21</td>\n",
       "      <td>26</td>\n",
       "    </tr>\n",
       "    <tr>\n",
       "      <th>869</th>\n",
       "      <td>g989</td>\n",
       "      <td>20</td>\n",
       "      <td>54.657650</td>\n",
       "      <td>1</td>\n",
       "      <td>Propriva</td>\n",
       "      <td>Female</td>\n",
       "      <td>21</td>\n",
       "      <td>26</td>\n",
       "    </tr>\n",
       "    <tr>\n",
       "      <th>870</th>\n",
       "      <td>g989</td>\n",
       "      <td>25</td>\n",
       "      <td>56.045564</td>\n",
       "      <td>1</td>\n",
       "      <td>Propriva</td>\n",
       "      <td>Female</td>\n",
       "      <td>21</td>\n",
       "      <td>26</td>\n",
       "    </tr>\n",
       "    <tr>\n",
       "      <th>871</th>\n",
       "      <td>g989</td>\n",
       "      <td>30</td>\n",
       "      <td>59.082294</td>\n",
       "      <td>1</td>\n",
       "      <td>Propriva</td>\n",
       "      <td>Female</td>\n",
       "      <td>21</td>\n",
       "      <td>26</td>\n",
       "    </tr>\n",
       "    <tr>\n",
       "      <th>872</th>\n",
       "      <td>g989</td>\n",
       "      <td>35</td>\n",
       "      <td>62.570880</td>\n",
       "      <td>2</td>\n",
       "      <td>Propriva</td>\n",
       "      <td>Female</td>\n",
       "      <td>21</td>\n",
       "      <td>26</td>\n",
       "    </tr>\n",
       "  </tbody>\n",
       "</table>\n",
       "</div>"
      ],
      "text/plain": [
       "    Mouse ID  Timepoint  Tumor Volume (mm3)  Metastatic Sites Drug Regimen  \\\n",
       "860     g989          0           45.000000                 0     Propriva   \n",
       "861     g989          0           45.000000                 0     Propriva   \n",
       "862     g989          5           48.786801                 0     Propriva   \n",
       "863     g989          5           47.570392                 0     Propriva   \n",
       "864     g989         10           51.745156                 0     Propriva   \n",
       "865     g989         10           49.880528                 0     Propriva   \n",
       "866     g989         15           51.325852                 1     Propriva   \n",
       "867     g989         15           53.442020                 0     Propriva   \n",
       "868     g989         20           55.326122                 1     Propriva   \n",
       "869     g989         20           54.657650                 1     Propriva   \n",
       "870     g989         25           56.045564                 1     Propriva   \n",
       "871     g989         30           59.082294                 1     Propriva   \n",
       "872     g989         35           62.570880                 2     Propriva   \n",
       "\n",
       "        Sex  Age_months  Weight (g)  \n",
       "860  Female          21          26  \n",
       "861  Female          21          26  \n",
       "862  Female          21          26  \n",
       "863  Female          21          26  \n",
       "864  Female          21          26  \n",
       "865  Female          21          26  \n",
       "866  Female          21          26  \n",
       "867  Female          21          26  \n",
       "868  Female          21          26  \n",
       "869  Female          21          26  \n",
       "870  Female          21          26  \n",
       "871  Female          21          26  \n",
       "872  Female          21          26  "
      ]
     },
     "execution_count": 5,
     "metadata": {},
     "output_type": "execute_result"
    }
   ],
   "source": [
    "# Optional: Get all the data for the duplicate mouse ID. \n",
    "\n",
    "mouse_df.loc[mouse_df['Mouse ID'] == 'g989']"
   ]
  },
  {
   "cell_type": "code",
   "execution_count": 6,
   "metadata": {},
   "outputs": [],
   "source": [
    "# Create a clean DataFrame by dropping the duplicate mouse by its ID.\n",
    "\n",
    "mouse_df_clean = mouse_df.drop_duplicates(subset=['Mouse ID', 'Timepoint'], keep= 'first')\n",
    "\n"
   ]
  },
  {
   "cell_type": "code",
   "execution_count": 7,
   "metadata": {},
   "outputs": [
    {
     "data": {
      "text/plain": [
       "1888"
      ]
     },
     "execution_count": 7,
     "metadata": {},
     "output_type": "execute_result"
    }
   ],
   "source": [
    "# Checking the number of mice in the clean DataFrame.\n",
    "\n",
    "mouse_df_clean['Mouse ID'].count()"
   ]
  },
  {
   "cell_type": "markdown",
   "metadata": {},
   "source": [
    "## Summary Statistics"
   ]
  },
  {
   "cell_type": "code",
   "execution_count": 8,
   "metadata": {},
   "outputs": [
    {
     "data": {
      "text/html": [
       "<div>\n",
       "<style scoped>\n",
       "    .dataframe tbody tr th:only-of-type {\n",
       "        vertical-align: middle;\n",
       "    }\n",
       "\n",
       "    .dataframe tbody tr th {\n",
       "        vertical-align: top;\n",
       "    }\n",
       "\n",
       "    .dataframe thead th {\n",
       "        text-align: right;\n",
       "    }\n",
       "</style>\n",
       "<table border=\"1\" class=\"dataframe\">\n",
       "  <thead>\n",
       "    <tr style=\"text-align: right;\">\n",
       "      <th></th>\n",
       "      <th>Regimen</th>\n",
       "      <th>Mean</th>\n",
       "      <th>Median</th>\n",
       "      <th>Var</th>\n",
       "      <th>Std</th>\n",
       "      <th>Sem</th>\n",
       "    </tr>\n",
       "  </thead>\n",
       "  <tbody>\n",
       "    <tr>\n",
       "      <th>0</th>\n",
       "      <td>Capomulin</td>\n",
       "      <td>40.68</td>\n",
       "      <td>41.56</td>\n",
       "      <td>24.84</td>\n",
       "      <td>4.98</td>\n",
       "      <td>0.33</td>\n",
       "    </tr>\n",
       "    <tr>\n",
       "      <th>1</th>\n",
       "      <td>Ceftamin</td>\n",
       "      <td>52.59</td>\n",
       "      <td>51.78</td>\n",
       "      <td>39.07</td>\n",
       "      <td>6.25</td>\n",
       "      <td>0.47</td>\n",
       "    </tr>\n",
       "    <tr>\n",
       "      <th>2</th>\n",
       "      <td>Infubinol</td>\n",
       "      <td>52.88</td>\n",
       "      <td>51.82</td>\n",
       "      <td>42.89</td>\n",
       "      <td>6.55</td>\n",
       "      <td>0.49</td>\n",
       "    </tr>\n",
       "    <tr>\n",
       "      <th>3</th>\n",
       "      <td>Ketapril</td>\n",
       "      <td>55.24</td>\n",
       "      <td>53.70</td>\n",
       "      <td>68.19</td>\n",
       "      <td>8.26</td>\n",
       "      <td>0.60</td>\n",
       "    </tr>\n",
       "    <tr>\n",
       "      <th>4</th>\n",
       "      <td>Naftisol</td>\n",
       "      <td>54.33</td>\n",
       "      <td>52.51</td>\n",
       "      <td>65.82</td>\n",
       "      <td>8.11</td>\n",
       "      <td>0.59</td>\n",
       "    </tr>\n",
       "    <tr>\n",
       "      <th>5</th>\n",
       "      <td>Placebo</td>\n",
       "      <td>54.03</td>\n",
       "      <td>52.29</td>\n",
       "      <td>60.83</td>\n",
       "      <td>7.80</td>\n",
       "      <td>0.58</td>\n",
       "    </tr>\n",
       "    <tr>\n",
       "      <th>6</th>\n",
       "      <td>Propriva</td>\n",
       "      <td>52.39</td>\n",
       "      <td>50.91</td>\n",
       "      <td>42.86</td>\n",
       "      <td>6.55</td>\n",
       "      <td>0.52</td>\n",
       "    </tr>\n",
       "    <tr>\n",
       "      <th>7</th>\n",
       "      <td>Ramicane</td>\n",
       "      <td>40.22</td>\n",
       "      <td>40.67</td>\n",
       "      <td>23.38</td>\n",
       "      <td>4.84</td>\n",
       "      <td>0.32</td>\n",
       "    </tr>\n",
       "    <tr>\n",
       "      <th>8</th>\n",
       "      <td>Stelasyn</td>\n",
       "      <td>54.23</td>\n",
       "      <td>52.43</td>\n",
       "      <td>59.12</td>\n",
       "      <td>7.69</td>\n",
       "      <td>0.57</td>\n",
       "    </tr>\n",
       "    <tr>\n",
       "      <th>9</th>\n",
       "      <td>Zoniferol</td>\n",
       "      <td>53.24</td>\n",
       "      <td>51.82</td>\n",
       "      <td>48.27</td>\n",
       "      <td>6.95</td>\n",
       "      <td>0.51</td>\n",
       "    </tr>\n",
       "  </tbody>\n",
       "</table>\n",
       "</div>"
      ],
      "text/plain": [
       "     Regimen   Mean  Median    Var   Std   Sem\n",
       "0  Capomulin  40.68   41.56  24.84  4.98  0.33\n",
       "1   Ceftamin  52.59   51.78  39.07  6.25  0.47\n",
       "2  Infubinol  52.88   51.82  42.89  6.55  0.49\n",
       "3   Ketapril  55.24   53.70  68.19  8.26  0.60\n",
       "4   Naftisol  54.33   52.51  65.82  8.11  0.59\n",
       "5    Placebo  54.03   52.29  60.83  7.80  0.58\n",
       "6   Propriva  52.39   50.91  42.86  6.55  0.52\n",
       "7   Ramicane  40.22   40.67  23.38  4.84  0.32\n",
       "8   Stelasyn  54.23   52.43  59.12  7.69  0.57\n",
       "9  Zoniferol  53.24   51.82  48.27  6.95  0.51"
      ]
     },
     "execution_count": 8,
     "metadata": {},
     "output_type": "execute_result"
    }
   ],
   "source": [
    "# Generate a summary statistics table of mean, median, variance, standard deviation, and SEM of the tumor volume for each regimen\n",
    "\n",
    "mouse_df_group = mouse_df_clean.groupby(['Drug Regimen'])\n",
    "\n",
    "Mean = round(mouse_df_group['Tumor Volume (mm3)'].mean(),2)\n",
    "\n",
    "Mean_df = pd.DataFrame({'Regimen': Mean.index, 'Mean': Mean.values})\n",
    "\n",
    "Median = round(mouse_df_group['Tumor Volume (mm3)'].median(),2)\n",
    "\n",
    "Median_df = pd.DataFrame({'Regimen': Median.index, 'Median': Median.values})\n",
    "\n",
    "Var = round(mouse_df_group['Tumor Volume (mm3)'].var(ddof=0),2)\n",
    "\n",
    "Var_df = pd.DataFrame({'Regimen': Var.index, 'Var': Var.values})\n",
    "\n",
    "Std = round(mouse_df_group['Tumor Volume (mm3)'].std(ddof=0),2)\n",
    "\n",
    "Std_df = pd.DataFrame({'Regimen': Std.index, 'Std': Std.values})\n",
    "\n",
    "Sem = round(mouse_df_group['Tumor Volume (mm3)'].sem(ddof=0),2)\n",
    "\n",
    "Sem_df = pd.DataFrame({'Regimen': Sem.index, 'Sem': Sem.values})\n",
    "\n",
    "# This method is the most straighforward, creating multiple series and putting them all together at the end.\n",
    "\n",
    "Summary_df = pd.merge(pd.merge(pd.merge(pd.merge(Mean_df, Median_df,on='Regimen'),Var_df,on='Regimen'),Std_df,on='Regimen'),Sem_df,on='Regimen')\n",
    "\n",
    "Summary_df"
   ]
  },
  {
   "cell_type": "markdown",
   "metadata": {},
   "source": [
    "## Bar Plots"
   ]
  },
  {
   "cell_type": "code",
   "execution_count": 9,
   "metadata": {},
   "outputs": [
    {
     "data": {
      "image/png": "[encoded data removed]",
      "text/plain": [
       "<Figure size 432x288 with 1 Axes>"
      ]
     },
     "metadata": {
      "needs_background": "light"
     },
     "output_type": "display_data"
    }
   ],
   "source": [
    "# Generate a bar plot showing the number of mice per time point for each treatment throughout the course of the study using pandas.\n",
    "\n",
    "mouse_df_group2 = mouse_df_clean.groupby('Timepoint')\n",
    "\n",
    "Count = mouse_df_group2['Mouse ID'].count()\n",
    "\n",
    "ax = Count.plot(kind = 'bar', color = 'r', alpha = 0.5, title = 'Number of Mice per time point')\n",
    "\n",
    "ax.set_ylabel = ('Number of Mice')\n"
   ]
  },
  {
   "cell_type": "code",
   "execution_count": 10,
   "metadata": {},
   "outputs": [
    {
     "data": {
      "image/png": "[encoded data removed]",
      "text/plain": [
       "<Figure size 432x288 with 1 Axes>"
      ]
     },
     "metadata": {
      "needs_background": "light"
     },
     "output_type": "display_data"
    }
   ],
   "source": [
    "# Generate a bar plot showing the number of mice per time point for each treatment throughout the course of the study using pyplot.\n",
    "\n",
    "count_df = pd.DataFrame({'Timepoint': Count.index, 'Number of Mice': Count.values})\n",
    "\n",
    "plt.bar(count_df['Timepoint'], count_df['Number of Mice'], color = 'r', alpha = 0.5, width = 2)\n",
    "\n",
    "plt.xlim(-2, max(count_df['Timepoint'])+2)\n",
    "\n",
    "plt.ylim(0, max(count_df['Number of Mice'])+10)\n",
    "\n",
    "plt.title('Number of Mice per time point')\n",
    "\n",
    "plt.xlabel('Timepoint')\n",
    "\n",
    "plt.ylabel('Number of Mice')\n",
    "\n",
    "plt.show()"
   ]
  },
  {
   "cell_type": "markdown",
   "metadata": {},
   "source": [
    "## Pie Plots"
   ]
  },
  {
   "cell_type": "code",
   "execution_count": 11,
   "metadata": {},
   "outputs": [
    {
     "data": {
      "image/png": "[encoded data removed]",
      "text/plain": [
       "<Figure size 432x288 with 1 Axes>"
      ]
     },
     "metadata": {},
     "output_type": "display_data"
    }
   ],
   "source": [
    "# Generate a pie plot showing the distribution of female versus male mice using pandas\n",
    "\n",
    "mouse_df_group3 = mouse_df_clean.groupby('Sex')\n",
    "\n",
    "Gender = mouse_df_group3['Mouse ID'].count()\n",
    "\n",
    "ax2 = Gender.plot(kind = 'pie', autopct = \"%1.1f%%\", shadow = True, title = 'Gender Distribution of Mice')\n",
    "\n",
    "_ = ax2.set_ylabel('')"
   ]
  },
  {
   "cell_type": "code",
   "execution_count": 12,
   "metadata": {},
   "outputs": [
    {
     "data": {
      "image/png": "[encoded data removed]",
      "text/plain": [
       "<Figure size 432x288 with 1 Axes>"
      ]
     },
     "metadata": {},
     "output_type": "display_data"
    }
   ],
   "source": [
    "# Generate a pie plot showing the distribution of female versus male mice using pyplot\n",
    "\n",
    "Gender_df = pd.DataFrame({'Gender': Gender.index, 'Count': Gender.values})\n",
    "\n",
    "plt.pie(Gender_df['Count'], labels = Gender_df['Gender'], autopct = \"%1.1f%%\", shadow = True)\n",
    "\n",
    "plt.title('Gender Distribution of Mice')\n",
    "\n",
    "plt.show()"
   ]
  },
  {
   "cell_type": "markdown",
   "metadata": {},
   "source": [
    "## Quartiles, Outliers and Boxplots"
   ]
  },
  {
   "cell_type": "code",
   "execution_count": 13,
   "metadata": {},
   "outputs": [
    {
     "name": "stdout",
     "output_type": "stream",
     "text": [
      "The IQR for for final tumor volume for Capomulin treatment is 7.782\n",
      "The IQR for for final tumor volume for Ramicane treatment is 9.099\n",
      "The IQR for for final tumor volume for Infubinol treatment is 11.477\n",
      "The IQR for for final tumor volume for Ceftamin treatment is 15.578\n"
     ]
    },
    {
     "data": {
      "text/html": [
       "<div>\n",
       "<style scoped>\n",
       "    .dataframe tbody tr th:only-of-type {\n",
       "        vertical-align: middle;\n",
       "    }\n",
       "\n",
       "    .dataframe tbody tr th {\n",
       "        vertical-align: top;\n",
       "    }\n",
       "\n",
       "    .dataframe thead th {\n",
       "        text-align: right;\n",
       "    }\n",
       "</style>\n",
       "<table border=\"1\" class=\"dataframe\">\n",
       "  <thead>\n",
       "    <tr style=\"text-align: right;\">\n",
       "      <th></th>\n",
       "      <th>Mouse ID</th>\n",
       "      <th>Timepoint</th>\n",
       "      <th>Tumor Volume (mm3)</th>\n",
       "      <th>Metastatic Sites</th>\n",
       "      <th>Drug Regimen</th>\n",
       "      <th>Sex</th>\n",
       "      <th>Age_months</th>\n",
       "      <th>Weight (g)</th>\n",
       "    </tr>\n",
       "  </thead>\n",
       "  <tbody>\n",
       "    <tr>\n",
       "      <th>214</th>\n",
       "      <td>c326</td>\n",
       "      <td>5</td>\n",
       "      <td>36.321346</td>\n",
       "      <td>0</td>\n",
       "      <td>Infubinol</td>\n",
       "      <td>Female</td>\n",
       "      <td>18</td>\n",
       "      <td>25</td>\n",
       "    </tr>\n",
       "  </tbody>\n",
       "</table>\n",
       "</div>"
      ],
      "text/plain": [
       "    Mouse ID  Timepoint  Tumor Volume (mm3)  Metastatic Sites Drug Regimen  \\\n",
       "214     c326          5           36.321346                 0    Infubinol   \n",
       "\n",
       "        Sex  Age_months  Weight (g)  \n",
       "214  Female          18          25  "
      ]
     },
     "execution_count": 13,
     "metadata": {},
     "output_type": "execute_result"
    }
   ],
   "source": [
    "# Calculate the final tumor volume of each mouse across four of the most promising treatment regimens. Calculate the IQR and quantitatively determine if there are any potential outliers. \n",
    "\n",
    "mouse_df_treatment = mouse_df_clean.loc[mouse_df_clean['Drug Regimen'].isin(['Capomulin','Ramicane','Infubinol', 'Ceftamin'])]\n",
    "\n",
    "mouse_df_treatment_f = mouse_df_treatment.sort_values(['Mouse ID','Timepoint']).groupby(['Drug Regimen','Mouse ID']).tail(1)\n",
    "\n",
    "mouse_df_treatment_group = mouse_df_treatment_f.groupby('Drug Regimen')\n",
    "\n",
    "quartiles = mouse_df_treatment_group['Tumor Volume (mm3)'].quantile([.25,.5,.75])\n",
    "\n",
    "IQR_Capo = round(quartiles.Capomulin[0.75] - quartiles.Capomulin[0.25], 3)\n",
    "\n",
    "IQR_Rami = round(quartiles.Ramicane[0.75] - quartiles.Ramicane[0.25], 3)\n",
    "\n",
    "IQR_Infu = round(quartiles.Infubinol[0.75] - quartiles.Infubinol[0.25], 3)\n",
    "\n",
    "IQR_Ceft = round(quartiles.Ceftamin[0.75] - quartiles.Ceftamin[0.25], 3)\n",
    "\n",
    "\n",
    "print(f'The IQR for for final tumor volume for Capomulin treatment is {IQR_Capo}')\n",
    "\n",
    "print(f'The IQR for for final tumor volume for Ramicane treatment is {IQR_Rami}')\n",
    "\n",
    "print(f'The IQR for for final tumor volume for Infubinol treatment is {IQR_Infu}')\n",
    "\n",
    "print(f'The IQR for for final tumor volume for Ceftamin treatment is {IQR_Ceft}')\n",
    "\n",
    "\n",
    "Outliers_Capo = mouse_df_treatment_f.loc[(mouse_df_treatment_f['Drug Regimen'] == 'Capomulin') &\n",
    "                                   ((mouse_df_treatment_f['Tumor Volume (mm3)'] < quartiles.Capomulin[0.25] - 1.5 * IQR_Capo) |\n",
    "                                   (mouse_df_treatment_f['Tumor Volume (mm3)'] > quartiles.Capomulin[0.75] + 1.5 * IQR_Capo))]\n",
    "\n",
    "\n",
    "Outliers_Rami = mouse_df_treatment_f.loc[(mouse_df_treatment_f['Drug Regimen'] == 'Ramicane') &\n",
    "                                   ((mouse_df_treatment_f['Tumor Volume (mm3)'] < quartiles.Ramicane[0.25] - 1.5 * IQR_Rami) |\n",
    "                                   (mouse_df_treatment_f['Tumor Volume (mm3)'] > quartiles.Ramicane[0.75] + 1.5 * IQR_Rami))]\n",
    "\n",
    "Outliers_Infu = mouse_df_treatment_f.loc[(mouse_df_treatment_f['Drug Regimen'] == 'Infubinol') &\n",
    "                                   ((mouse_df_treatment_f['Tumor Volume (mm3)'] < quartiles.Infubinol[0.25] - 1.5 * IQR_Infu) |\n",
    "                                   (mouse_df_treatment_f['Tumor Volume (mm3)'] > quartiles.Infubinol[0.75] + 1.5 * IQR_Infu))]\n",
    "\n",
    "Outliers_Ceft = mouse_df_treatment_f.loc[(mouse_df_treatment_f['Drug Regimen'] == 'Ceftamin') &\n",
    "                                   ((mouse_df_treatment_f['Tumor Volume (mm3)'] < quartiles.Ceftamin[0.25] - 1.5 * IQR_Ceft) |\n",
    "                                   (mouse_df_treatment_f['Tumor Volume (mm3)'] > quartiles.Ceftamin[0.75] + 1.5 * IQR_Ceft))]\n",
    "\n",
    "Outliers_Infu"
   ]
  },
  {
   "cell_type": "code",
   "execution_count": 18,
   "metadata": {},
   "outputs": [
    {
     "data": {
      "image/png": "[encoded data removed]",
      "text/plain": [
       "<Figure size 432x288 with 1 Axes>"
      ]
     },
     "metadata": {
      "needs_background": "light"
     },
     "output_type": "display_data"
    }
   ],
   "source": [
    "# Generate a box plot of the final tumor volume of each mouse across four regimens of interest\n",
    "\n",
    "red_diamond = dict(markerfacecolor='r', marker='D')\n",
    "\n",
    "mouse_df_treatment_f.boxplot(column = 'Tumor Volume (mm3)', by = 'Drug Regimen', flierprops = red_diamond)\n",
    "\n",
    "_ = plt.title(\" \")\n",
    "\n",
    "_ = plt.ylabel(\"Final Tumor volume\")"
   ]
  },
  {
   "cell_type": "code",
   "execution_count": 15,
   "metadata": {},
   "outputs": [
    {
     "data": {
      "image/png": "[encoded data removed]",
      "text/plain": [
       "<Figure size 432x288 with 1 Axes>"
      ]
     },
     "metadata": {
      "needs_background": "light"
     },
     "output_type": "display_data"
    }
   ],
   "source": [
    "# Generate a line plot of time point versus tumor volume for a mouse treated with Capomulin\n",
    "\n",
    "\n",
    "just_one_mouse = mouse_df_clean.loc[mouse_df_clean['Mouse ID'] == 'b128']\n",
    "\n",
    "\n",
    "ax3 = just_one_mouse.plot(x = 'Timepoint', y = 'Tumor Volume (mm3)', kind = 'line')\n",
    "\n",
    "_ = ax3.set_ylabel('Tumor Volume over time')\n"
   ]
  },
  {
   "cell_type": "code",
   "execution_count": 16,
   "metadata": {},
   "outputs": [
    {
     "data": {
      "image/png": "[encoded data removed]",
      "text/plain": [
       "<Figure size 432x288 with 1 Axes>"
      ]
     },
     "metadata": {
      "needs_background": "light"
     },
     "output_type": "display_data"
    }
   ],
   "source": [
    "# Generate a scatter plot of mouse weight versus average tumor volume for the Capomulin regimen\n",
    "\n",
    "mouse_df_weight = mouse_df_clean.loc[mouse_df_clean['Drug Regimen'] == 'Capomulin']\n",
    "\n",
    "mouse_df_weight_group = mouse_df_weight.groupby('Weight (g)')\n",
    "\n",
    "weight = mouse_df_weight_group['Tumor Volume (mm3)'].mean()\n",
    "\n",
    "weight_df = pd.DataFrame({'Weight': weight.index, 'Avg Tumor Volume': weight.values})\n",
    "\n",
    "\n",
    "ax4 = weight_df.plot(x = 'Weight', y = 'Avg Tumor Volume', kind = 'scatter', title = 'Avg Tumor Volume vs Weight')"
   ]
  },
  {
   "cell_type": "markdown",
   "metadata": {},
   "source": [
    "## Correlation and Regression"
   ]
  },
  {
   "cell_type": "code",
   "execution_count": 17,
   "metadata": {},
   "outputs": [
    {
     "name": "stdout",
     "output_type": "stream",
     "text": [
      "The correlation between the 2 variables is 0.95\n"
     ]
    },
    {
     "data": {
      "image/png": "[encoded data removed]",
      "text/plain": [
       "<Figure size 432x288 with 1 Axes>"
      ]
     },
     "metadata": {
      "needs_background": "light"
     },
     "output_type": "display_data"
    }
   ],
   "source": [
    "# Calculate the correlation coefficient and linear regression model \n",
    "# for mouse weight and average tumor volume for the Capomulin regimen\n",
    "\n",
    "weight_var = weight_df.iloc[:,0]\n",
    "\n",
    "Avg_tumor = weight_df.iloc[:,1]\n",
    "\n",
    "correlation = st.pearsonr(weight_var, Avg_tumor)\n",
    "\n",
    "print(f\"The correlation between the 2 variables is {round(correlation[0],2)}\")\n",
    "\n",
    "\n",
    "from scipy.stats import linregress\n",
    "\n",
    "x_values = weight_var\n",
    "\n",
    "y_values = Avg_tumor\n",
    "\n",
    "(slope, intercept, rvalue, pvalue, stderr) = linregress(x_values, y_values)\n",
    "\n",
    "regress_values = x_values * slope + intercept\n",
    "\n",
    "plt.scatter(x_values,y_values)\n",
    "\n",
    "plt.plot(x_values,regress_values,\"r-\")\n",
    "\n",
    "plt.xlabel = ('Weight')\n",
    "\n",
    "plt.ylable = (\"Avg Tumor Volume\")"
   ]
  },
  {
   "cell_type": "code",
   "execution_count": null,
   "metadata": {},
   "outputs": [],
   "source": []
  }
 ],
 "metadata": {
  "anaconda-cloud": {},
  "kernelspec": {
   "display_name": "PythonData",
   "language": "python",
   "name": "pythondata"
  },
  "language_info": {
   "codemirror_mode": {
    "name": "ipython",
    "version": 3
   },
   "file_extension": ".py",
   "mimetype": "text/x-python",
   "name": "python",
   "nbconvert_exporter": "python",
   "pygments_lexer": "ipython3",
   "version": "3.8.1"
  }
 },
 "nbformat": 4,
 "nbformat_minor": 2
}
